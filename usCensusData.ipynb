{
 "cells": [
  {
   "cell_type": "code",
   "execution_count": null,
   "metadata": {},
   "outputs": [],
   "source": [
    "# Helpful link:\n",
    "# https://medium.com/@mcmanus_data_works/using-the-u-s-census-bureau-api-with-python-5c30ad34dbd7"
   ]
  },
  {
   "cell_type": "code",
   "execution_count": null,
   "metadata": {},
   "outputs": [],
   "source": [
    "#Install libraries in *terminal*\n",
    "#Code: pip install requests pandas\n",
    "#update python as recommended\n",
    "#Code: conda install requests pandas\n",
    "# select \"yes\""
   ]
  },
  {
   "cell_type": "code",
   "execution_count": 24,
   "metadata": {},
   "outputs": [],
   "source": [
    "import requests\n",
    "import pandas as pd"
   ]
  },
  {
   "cell_type": "code",
   "execution_count": 30,
   "metadata": {},
   "outputs": [],
   "source": [
    "# Define the URL of the JSON file you want to access\n",
    "json_url = \"https://api.census.gov/data/2010.json\"\n",
    "\n",
    "# Make a GET request to download the JSON file\n",
    "response = requests.get(json_url)"
   ]
  },
  {
   "cell_type": "code",
   "execution_count": 31,
   "metadata": {},
   "outputs": [
    {
     "name": "stdout",
     "output_type": "stream",
     "text": [
      "https://api.census.gov/data/2010/dec/pl.json\n"
     ]
    }
   ],
   "source": [
    "# Join the variables into a comma-separated string\n",
    "variables_str = \",\".join(variables)\n",
    "\n",
    "# Example usage\n",
    "year = \"2010\"  # You can change this to the desired census year\n",
    "dataset = \"dec/pl\"  # This is the dataset for the decennial population and housing data\n",
    "output_format = \"json\"  # You can change this to \"xml\" if needed\n",
    "\n",
    "# Construct the API URL\n",
    "api_url = construct_api_url(year, dataset, output_format)\n",
    "\n",
    "# Print the constructed URL\n",
    "print(api_url)"
   ]
  },
  {
   "cell_type": "code",
   "execution_count": 35,
   "metadata": {},
   "outputs": [
    {
     "ename": "KeyError",
     "evalue": "\"Only a column name can be used for the key in a dtype mappings argument. 'H001001' not found in columns.\"",
     "output_type": "error",
     "traceback": [
      "\u001b[0;31m---------------------------------------------------------------------------\u001b[0m",
      "\u001b[0;31mKeyError\u001b[0m                                  Traceback (most recent call last)",
      "\u001b[0;32m/var/folders/nq/ddvdkdtd6vvch9hsjq7lgrt8pxnqdp/T/ipykernel_83062/1132135632.py\u001b[0m in \u001b[0;36m?\u001b[0;34m()\u001b[0m\n\u001b[1;32m      9\u001b[0m     \u001b[0;31m# Assuming data is a list of dictionaries\u001b[0m\u001b[0;34m\u001b[0m\u001b[0;34m\u001b[0m\u001b[0m\n\u001b[1;32m     10\u001b[0m     \u001b[0mdf\u001b[0m \u001b[0;34m=\u001b[0m \u001b[0mpd\u001b[0m\u001b[0;34m.\u001b[0m\u001b[0mDataFrame\u001b[0m\u001b[0;34m(\u001b[0m\u001b[0mdata\u001b[0m\u001b[0;34m)\u001b[0m\u001b[0;34m\u001b[0m\u001b[0;34m\u001b[0m\u001b[0m\n\u001b[1;32m     11\u001b[0m \u001b[0;34m\u001b[0m\u001b[0m\n\u001b[1;32m     12\u001b[0m     \u001b[0;31m# Change data types\u001b[0m\u001b[0;34m\u001b[0m\u001b[0;34m\u001b[0m\u001b[0m\n\u001b[0;32m---> 13\u001b[0;31m     df = df.astype({\n\u001b[0m\u001b[1;32m     14\u001b[0m         \u001b[0;34m\"H001001\"\u001b[0m\u001b[0;34m:\u001b[0m \u001b[0mint\u001b[0m\u001b[0;34m,\u001b[0m\u001b[0;34m\u001b[0m\u001b[0;34m\u001b[0m\u001b[0m\n\u001b[1;32m     15\u001b[0m         \u001b[0;34m\"H003001\"\u001b[0m\u001b[0;34m:\u001b[0m \u001b[0mint\u001b[0m\u001b[0;34m,\u001b[0m\u001b[0;34m\u001b[0m\u001b[0;34m\u001b[0m\u001b[0m\n\u001b[1;32m     16\u001b[0m         \u001b[0;34m\"H004001\"\u001b[0m\u001b[0;34m:\u001b[0m \u001b[0mint\u001b[0m\u001b[0;34m,\u001b[0m\u001b[0;34m\u001b[0m\u001b[0;34m\u001b[0m\u001b[0m\n",
      "\u001b[0;32m~/Documents/GitHub/innerworkings/.conda/lib/python3.11/site-packages/pandas/core/generic.py\u001b[0m in \u001b[0;36m?\u001b[0;34m(self, dtype, copy, errors)\u001b[0m\n\u001b[1;32m   6286\u001b[0m             \u001b[0mdtype_ser\u001b[0m \u001b[0;34m=\u001b[0m \u001b[0mSeries\u001b[0m\u001b[0;34m(\u001b[0m\u001b[0mdtype\u001b[0m\u001b[0;34m,\u001b[0m \u001b[0mdtype\u001b[0m\u001b[0;34m=\u001b[0m\u001b[0mobject\u001b[0m\u001b[0;34m)\u001b[0m\u001b[0;34m\u001b[0m\u001b[0;34m\u001b[0m\u001b[0m\n\u001b[1;32m   6287\u001b[0m \u001b[0;34m\u001b[0m\u001b[0m\n\u001b[1;32m   6288\u001b[0m             \u001b[0;32mfor\u001b[0m \u001b[0mcol_name\u001b[0m \u001b[0;32min\u001b[0m \u001b[0mdtype_ser\u001b[0m\u001b[0;34m.\u001b[0m\u001b[0mindex\u001b[0m\u001b[0;34m:\u001b[0m\u001b[0;34m\u001b[0m\u001b[0;34m\u001b[0m\u001b[0m\n\u001b[1;32m   6289\u001b[0m                 \u001b[0;32mif\u001b[0m \u001b[0mcol_name\u001b[0m \u001b[0;32mnot\u001b[0m \u001b[0;32min\u001b[0m \u001b[0mself\u001b[0m\u001b[0;34m:\u001b[0m\u001b[0;34m\u001b[0m\u001b[0;34m\u001b[0m\u001b[0m\n\u001b[0;32m-> 6290\u001b[0;31m                     raise KeyError(\n\u001b[0m\u001b[1;32m   6291\u001b[0m                         \u001b[0;34m\"Only a column name can be used for the \"\u001b[0m\u001b[0;34m\u001b[0m\u001b[0;34m\u001b[0m\u001b[0m\n\u001b[1;32m   6292\u001b[0m                         \u001b[0;34m\"key in a dtype mappings argument. \"\u001b[0m\u001b[0;34m\u001b[0m\u001b[0;34m\u001b[0m\u001b[0m\n\u001b[1;32m   6293\u001b[0m                         \u001b[0;34mf\"'{col_name}' not found in columns.\"\u001b[0m\u001b[0;34m\u001b[0m\u001b[0;34m\u001b[0m\u001b[0m\n",
      "\u001b[0;31mKeyError\u001b[0m: \"Only a column name can be used for the key in a dtype mappings argument. 'H001001' not found in columns.\""
     ]
    }
   ],
   "source": [
    "# Now you can use the constructed URL to make a request to the Census API\n",
    "response = requests.get(api_url)\n",
    "\n",
    "# Handle the response as needed\n",
    "if response.status_code == 200:\n",
    "    data = response.json()\n",
    "    # Process the data here\n",
    "\n",
    "    # Assuming data is a list of dictionaries\n",
    "    df = pd.DataFrame(data)\n",
    "    \n",
    "    # Change data types\n",
    "    df = df.astype({\n",
    "        \"H001001\": int,\n",
    "        \"H003001\": int,\n",
    "        \"H004001\": int,\n",
    "    })\n",
    "    \n",
    "    # Calculate occupancy rates\n",
    "    df[\"Occupancy Rate\"] = (df[\"H003001\"] / df[\"H001001\"]) * 100\n",
    "    \n",
    "    # Display the DataFrame\n",
    "    print(df.head())\n",
    "else:\n",
    "    print(f\"Error fetching data from the Census API. Status code: {response.status_code}\")\n",
    "    print(f\"Response text: {response.text}\")\n",
    "\n",
    "\n",
    "#else:\n",
    "#    print(f\"Error fetching data from the Census API. Status code: {response.status_code}\")\n",
    "#    print(f\"Response text: {response.text}\")\n",
    "\n"
   ]
  },
  {
   "cell_type": "code",
   "execution_count": null,
   "metadata": {},
   "outputs": [],
   "source": [
    "#Define dataframe\n"
   ]
  },
  {
   "cell_type": "code",
   "execution_count": null,
   "metadata": {},
   "outputs": [],
   "source": [
    "#Data Exploration and Analysis:\n",
    "# Convert columns to appropriate data types (e.g., integers)\n",
    "df = df.astype({\n",
    "    \"H001001\": int,\n",
    "    \"H003001\": int,\n",
    "    \"H004001\": int,\n",
    "})\n",
    "\n"
   ]
  },
  {
   "cell_type": "code",
   "execution_count": null,
   "metadata": {},
   "outputs": [],
   "source": [
    "# Calculate occupancy rates\n",
    "df[\"Occupancy Rate\"] = (df[\"H003001\"] / df[\"H001001\"]) * 100\n",
    "\n",
    "# Display the DataFrame\n",
    "print(df.head())"
   ]
  }
 ],
 "metadata": {
  "kernelspec": {
   "display_name": "Python 3",
   "language": "python",
   "name": "python3"
  },
  "language_info": {
   "codemirror_mode": {
    "name": "ipython",
    "version": 3
   },
   "file_extension": ".py",
   "mimetype": "text/x-python",
   "name": "python",
   "nbconvert_exporter": "python",
   "pygments_lexer": "ipython3",
   "version": "3.11.5"
  },
  "orig_nbformat": 4
 },
 "nbformat": 4,
 "nbformat_minor": 2
}
