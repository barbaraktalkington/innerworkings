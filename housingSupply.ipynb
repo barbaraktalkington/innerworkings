{
 "cells": [
  {
   "cell_type": "code",
   "execution_count": null,
   "metadata": {},
   "outputs": [],
   "source": [
    "#Install libraries in *terminal*\n",
    "#Code: pip install requests pandas\n",
    "#update python as recommended\n",
    "#Code: conda install requests pandas\n",
    "# select \"yes\""
   ]
  },
  {
   "cell_type": "code",
   "execution_count": 10,
   "metadata": {},
   "outputs": [
    {
     "name": "stdout",
     "output_type": "stream",
     "text": [
      "Intel MKL WARNING: Support of Intel(R) Streaming SIMD Extensions 4.2 (Intel(R) SSE4.2) enabled only processors has been deprecated. Intel oneAPI Math Kernel Library 2025.0 will require Intel(R) Advanced Vector Extensions (Intel(R) AVX) instructions.\n",
      "Intel MKL WARNING: Support of Intel(R) Streaming SIMD Extensions 4.2 (Intel(R) SSE4.2) enabled only processors has been deprecated. Intel oneAPI Math Kernel Library 2025.0 will require Intel(R) Advanced Vector Extensions (Intel(R) AVX) instructions.\n"
     ]
    }
   ],
   "source": [
    "#Import libraries\n",
    "import requests\n",
    "import pandas as pd"
   ]
  },
  {
   "cell_type": "code",
   "execution_count": 12,
   "metadata": {},
   "outputs": [],
   "source": [
    "#Define API Parameters:\n",
    "base_url = \"https://api.census.gov/data/\"\n",
    "year = \"2020\"  # You can change this to the desired census year\n",
    "dataset = \"dec/pl\"  # This is the dataset for the decennial population and housing data\n",
    "\n",
    "# Define the variables you want to retrieve\n",
    "variables = [\n",
    "    \"H001001\",  # Total housing units\n",
    "    \"H003001\",  # Occupied housing units\n",
    "    \"H004001\",  # Vacant housing units\n",
    "    \"GEO_ID\",    # Geographic identifier (FIPS code)\n",
    "]\n",
    "\n",
    "# Join the variables into a comma-separated string\n",
    "variables_str = \",\".join(variables)"
   ]
  },
  {
   "cell_type": "code",
   "execution_count": 13,
   "metadata": {},
   "outputs": [],
   "source": [
    "#Make API Request\n",
    "url = f\"{base_url}{year}/{dataset}?get={variables_str}&for=zip%20code%20tabulation%20area:*\"\n",
    "response = requests.get(url)"
   ]
  },
  {
   "cell_type": "code",
   "execution_count": 17,
   "metadata": {},
   "outputs": [
    {
     "name": "stdout",
     "output_type": "stream",
     "text": [
      "Error fetching data from the Census API.\n"
     ]
    }
   ],
   "source": [
    "#Parse API Response\n",
    "if response.status_code == 200:\n",
    "    data = response.json()\n",
    "    # Convert the response data into a DataFrame\n",
    "    df = pd.DataFrame(data[1:], columns=data[0])\n",
    "else:\n",
    "    print(\"Error fetching data from the Census API.\")\n"
   ]
  },
  {
   "cell_type": "code",
   "execution_count": null,
   "metadata": {},
   "outputs": [],
   "source": [
    "#Data Exploration and Analysis:\n",
    "# Convert columns to appropriate data types (e.g., integers)\n",
    "df = df.astype({\n",
    "    \"H001001\": int,\n",
    "    \"H003001\": int,\n",
    "    \"H004001\": int,\n",
    "})\n",
    "\n",
    "# Calculate occupancy rates\n",
    "df[\"Occupancy Rate\"] = (df[\"H003001\"] / df[\"H001001\"]) * 100\n",
    "\n",
    "# Display the DataFrame\n",
    "print(df.head())"
   ]
  },
  {
   "cell_type": "code",
   "execution_count": null,
   "metadata": {},
   "outputs": [],
   "source": [
    "#Save/Export Data:\n",
    "df.to_csv(\"census_housing_data.csv\", index=False)"
   ]
  }
 ],
 "metadata": {
  "kernelspec": {
   "display_name": "Python 3",
   "language": "python",
   "name": "python3"
  },
  "language_info": {
   "codemirror_mode": {
    "name": "ipython",
    "version": 3
   },
   "file_extension": ".py",
   "mimetype": "text/x-python",
   "name": "python",
   "nbconvert_exporter": "python",
   "pygments_lexer": "ipython3",
   "version": "3.11.5"
  },
  "orig_nbformat": 4
 },
 "nbformat": 4,
 "nbformat_minor": 2
}
